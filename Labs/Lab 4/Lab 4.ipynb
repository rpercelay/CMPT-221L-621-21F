{
 "cells": [
  {
   "cell_type": "markdown",
   "source": [
    "# Lab Four\n",
    "---\n",
    "\n",
    "Ok for this lab we're going to complete our Iteration 0.\n",
    "\n",
    "Our Goals are:\n",
    "- Introduce the team\n",
    "- Define team meeting cadence, means of communication, and scheduled activities\n",
    "- Discuss means of documentation, and development\n",
    "- Create Design Specifications\n",
    "- Create Initial Backlog\n",
    "- Assign Roles (These will change since we want every one to be in every role at some point)\n"
   ],
   "metadata": {}
  },
  {
   "cell_type": "markdown",
   "source": [
    "## First things first, what's your initial idea for the project!? \r\n",
    "This is allowed to change and be altered but the alterations have to be approved by the shareholder! You can't just show up with a different product than you promised. That's the quickest way to not get paid! \r\n",
    "\r\n",
    "Blog page loosely based off of Twitter, with our own spin on it, users can “sting” other users.\r\n",
    "\r\n",
    "**When you have this also put it in the Slack channel that you'll make in the next step! I may not take the first idea. The channel with me will serve as a means to communicate with each other if you so choose as well as me!**\r\n",
    "\r\n",
    "Made the slack channel"
   ],
   "metadata": {}
  },
  {
   "cell_type": "markdown",
   "source": [
    "## Once you have that come up with a team/company name! Make a slack channel with all the members of your team and Professor Kippins!\r\n",
    "\r\n",
    "\r\n",
    "Stinger"
   ],
   "metadata": {}
  },
  {
   "cell_type": "markdown",
   "source": [
    "## How often are we meeting for Stand ups?\r\n",
    "\r\n",
    "Once/twice a week"
   ],
   "metadata": {}
  },
  {
   "cell_type": "markdown",
   "source": [
    "## What is our iteration length? We're all locked into 2 week iterations (This ones a gimmie 😂) \r\n",
    "\r\n",
    "two weeks"
   ],
   "metadata": {}
  },
  {
   "cell_type": "markdown",
   "source": [
    "## What is our preferred means of communication? (Slack, Email, Text, Zoom call?)\r\n",
    "\r\n",
    "Text group chat, discord"
   ],
   "metadata": {}
  },
  {
   "cell_type": "markdown",
   "source": [
    "## What means of communication do we want for Stand Ups?\r\n",
    "\r\n",
    "Brief discord calls"
   ],
   "metadata": {}
  },
  {
   "cell_type": "markdown",
   "source": [
    "## What means of communication do we want for Iteration Planning?\r\n",
    "\r\n",
    "Mostly planning over text, some in-person discussion."
   ],
   "metadata": {}
  },
  {
   "cell_type": "markdown",
   "source": [
    "## What means of communication do we want for Retrospectives?\r\n",
    "\r\n",
    "Mostly over text through IM, some discussion in person."
   ],
   "metadata": {}
  },
  {
   "cell_type": "markdown",
   "source": [
    "# You need to have your project idea settled before you answer these!\r\n",
    "## Come up with your design specifications! What is your 1.0 release supposed to look like?\r\n",
    "\r\n",
    "Polished look, outlinks to users,  ability to log into the site, meshed view instead of homepage, dynamic elements with javascript."
   ],
   "metadata": {}
  },
  {
   "cell_type": "markdown",
   "source": [
    "## Come up with a way to manage and create an initial backlog of things to do. Put the link in your Slack Channel's description as well as here!\r\n",
    "\r\n",
    "https://github.com/AlphonseVotaIV/SoftwareDev2Group5/projects/1"
   ],
   "metadata": {}
  },
  {
   "cell_type": "markdown",
   "source": [
    "## What's everyone's starting role (Choose an IM and PO everyone else is Dev)\r\n",
    "\r\n",
    "Henry Foreman: Iteration Manager\r\n",
    "Michael Laffan: Developer\r\n",
    "Reed Percelay: Product Owner\r\n",
    "Alphonse Vota: Developer\r\n"
   ],
   "metadata": {}
  }
 ],
 "metadata": {
  "orig_nbformat": 4,
  "language_info": {
   "name": "javascript",
   "version": "3.9.6"
  },
  "kernelspec": {
   "name": "javascript",
   "display_name": "Javascript (Node.js)",
   "language": "javascript"
  },
  "interpreter": {
   "hash": "aee8b7b246df8f9039afb4144a1f6fd8d2ca17a180786b69acc140d282b71a49"
  }
 },
 "nbformat": 4,
 "nbformat_minor": 2
}