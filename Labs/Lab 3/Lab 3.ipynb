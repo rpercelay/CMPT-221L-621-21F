{
 "cells": [
  {
   "cell_type": "markdown",
   "source": [
    "# Lab Three\n",
    "---\n",
    "\n",
    "Ok for this lab we're going to reiterate a lot of the things that we went over in class.\n",
    "\n",
    "Our Goals are:\n",
    "- Understanding Variable Types\n",
    "- Defining Variables\n",
    "- Using Conditionals\n",
    "- Using Loops\n",
    "- Creating Objects\n",
    "- Writing a function\n"
   ],
   "metadata": {}
  },
  {
   "cell_type": "markdown",
   "source": [
    "## What's the difference between Null and undefined?"
   ],
   "metadata": {}
  },
  {
   "cell_type": "code",
   "execution_count": null,
   "source": [
    "The difference is that a null variable has been specifically set to be empty, while an undefined variable has not been set to anything."
   ],
   "outputs": [],
   "metadata": {}
  },
  {
   "cell_type": "markdown",
   "source": [
    "## List the 3 Variable Types and Use Them!"
   ],
   "metadata": {}
  },
  {
   "cell_type": "markdown",
   "source": [
    "var, let, const.\r\n",
    "\r\n",
    "var className = \"SoftwareDevII\";\r\n",
    "\r\n",
    "let buildingName = \"Hancock\";\r\n",
    "\r\n",
    "const creditValue = 4;\r\n",
    "\r\n",
    "\r\n",
    "\r\n"
   ],
   "metadata": {}
  },
  {
   "cell_type": "markdown",
   "source": [
    "## Use an If/Else If/Else Statement and a Switch Case statement"
   ],
   "metadata": {}
  },
  {
   "cell_type": "code",
   "execution_count": null,
   "source": [
    "if (true == true) {\r\n",
    "    console.log(\"2+2=4\")\r\n",
    "}\r\n",
    "else if (false = true) {\r\n",
    "    console.log(\"2*2 != 2^2)\r\n",
    "}\r\n",
    "else {\r\n",
    "    console.log(\"2 = 1^2\")\r\n",
    "}\r\n",
    "\r\n",
    "var element = \"Water\";\r\n",
    "switch (starter) {\r\n",
    "    case \"Water\":\r\n",
    "        console.log(\"You'll train with Katara.\");\r\n",
    "        break;\r\n",
    "    case \"Air\":\r\n",
    "        console.log(\"You'll train with Aang.\");\r\n",
    "        break;\r\n",
    "    case \"Fire\":\r\n",
    "        console.log(\"You'll train with Zuko.\");\r\n",
    "        break;\r\n",
    "    case \"Earth\":\r\n",
    "        console.log(\"You'll train with Toph.\");\r\n",
    "        break\r\n",
    "\r\n",
    "    default:\r\n",
    "        console.log(\"You'll mess around with Sokka!\");\r\n",
    "        break;\r\n",
    "}\r\n"
   ],
   "outputs": [],
   "metadata": {}
  },
  {
   "cell_type": "markdown",
   "source": [
    "## Use a For and a While Loop"
   ],
   "metadata": {}
  },
  {
   "cell_type": "code",
   "execution_count": null,
   "source": [
    "for (var i = 0; i <= 2; i++) {\r\n",
    "    console.log(i);\r\n",
    "}\r\n",
    "\r\n",
    "var i = 4;\r\n",
    "while (i < 10) {\r\n",
    "    console.log(i);\r\n",
    "    i++;\r\n",
    "}"
   ],
   "outputs": [],
   "metadata": {}
  },
  {
   "cell_type": "markdown",
   "source": [
    "## Make an object!"
   ],
   "metadata": {}
  },
  {
   "cell_type": "code",
   "execution_count": null,
   "source": [
    "let course = {name: \"SoftwareDevII\", building: \"Hancock\", room: \"1017\"}"
   ],
   "outputs": [],
   "metadata": {}
  },
  {
   "cell_type": "markdown",
   "source": [
    "## Make a function, It can do anything!"
   ],
   "metadata": {}
  },
  {
   "cell_type": "code",
   "execution_count": null,
   "source": [
    "function gradecalculator(testgrade) {\r\n",
    "    console.log(\"You are failing\");\r\n",
    "}\r\n",
    "gradecalculator(92);"
   ],
   "outputs": [],
   "metadata": {}
  },
  {
   "cell_type": "markdown",
   "source": [
    "## Optional: Checkout HackerRank and try a problem in Javascript"
   ],
   "metadata": {}
  }
 ],
 "metadata": {
  "orig_nbformat": 4,
  "language_info": {
   "name": "javascript",
   "version": "10.22.0",
   "mimetype": "application/javascript",
   "file_extension": ".js"
  },
  "kernelspec": {
   "name": "javascript",
   "display_name": "Javascript (Node.js)",
   "language": "javascript"
  }
 },
 "nbformat": 4,
 "nbformat_minor": 2
}