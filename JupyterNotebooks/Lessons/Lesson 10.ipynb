{
 "cells": [
  {
   "cell_type": "markdown",
   "metadata": {},
   "source": [
    "# Software Development 2\n",
    "Topics for today will include:\n",
    "- Deployment\n",
    "- DNS\n",
    "- Personal Server\n",
    "- SSH\n",
    "- Heroku\n",
    "- AWS\n",
    "- Azure\n",
    "- Google Cloud\n",
    "- IBM Cloud\n",
    "- NGINX\n",
    "- Apache Web Server\n",
    "- Docker\n",
    "- Kubernetes\n",
    "- HTTP vs HTTPS\n",
    "- Web Certificates\n",
    "- Group Status\n",
    "\n",
    "\n",
    "If you'd like to take notes in this Jupyter Notebook, I **HIGHLY RECOMMEND** you make a duplicate, add the word student or something to the name so you don't get a merge conflict!\n",
    "\n",
    "| Group/Company Name   | Slack Channel | Confirmed Groups |\n",
    "| -------------------- | :-----------: | ---------------- |\n",
    "| VIP Development Team | ✅ | Austin Frank, Trent Green, Joe Bartholdi, Connor Johnson, Alex Hanys |\n",
    "| Swole                | ✅ | Noah Fernandez, Sam Viola, Easton Eberwein, Emile Khoury, Rocco Mangone |\n",
    "| Decible              | ✅ | Genevieve Anderson, Angie Chirichella, Gaby Nina, Kylie Wasserman |\n",
    "| Team -               | ✅ | Daniel Bilotto, Emily Saviano, Kenzie Lippa, Fauziah Ibrahim |\n",
    "| Stinger               | ✅ | Michael Laffan, Reed Percelay, Alphonse Vota, Henry Foreman |\n",
    "| Phoenix Foundation   | ✅ | Joshua Seligman, Nick Fiore, Jason Dos Santos, Nicholas Fisher | \n"
   ]
  },
  {
   "cell_type": "markdown",
   "metadata": {},
   "source": [
    "## Deployment\n",
    "\n",
    "So we've gotten this far! We have written our website, we're serving our webpages, we've learned about several different platforms to build web applications, we've connected our web apps to a database, we have our front end, we have our back end! What now? Well how do we get other people to see it? How do we actually deploy a website so that it's visible on the internet? What do we need, who do we contact? What actually is godaddy.com? These ate things that we need to know so that we can actually get our website on the internet.\n"
   ]
  },
  {
   "cell_type": "markdown",
   "metadata": {},
   "source": [
    "## GitHub Pages\n",
    "\n",
    "So this is beyond us but I'm a GitHub fanboy so I have to mention it. Github can host a static website for you. Keyword, static. Since we're not writing a static webpage I didn't mention this earlier but it is something to know about just incase!\n",
    "\n",
    "[GitHub Pages](https://pages.github.com)"
   ]
  },
  {
   "cell_type": "markdown",
   "metadata": {},
   "source": [
    "## DNS (Domain Name Service)\n",
    "Ok so the domain name service, this is basically a massive phone book for the internet. Humans are dumb. We use words and names to identify things. Although we all have ID numbers, we probably couldn't say them if we tried. Computers are good with numbers so they're ok with a unique identifier. This is where the government comes in. The government has a database that connects an ID number to your name so that others can know who you are and differentiate you if you don't have a unique name. \n",
    "\n",
    "The DNS is the government of the internet in this scenario. We speak in words and remember names. Computers on the other hand remember numbers. So for the computer it likes IP Addresses, us humans like names, and the DNS likes to translate one into another so that we can keep delaying the great Human Robot War. \n",
    "\n",
    "Alright we know that we have an IP and we have these names. Well where do we get them. Starting with the names half:\n",
    "\n",
    "- [Google Domains](https://domains.google)\n",
    "- [NameCheap](https://www.namecheap.com)\n",
    "- [GoDaddy](https://www.godaddy.com)\n",
    "\n",
    "On the numbers half we have a few different directions that we can go. We'll get into those below"
   ]
  },
  {
   "cell_type": "markdown",
   "metadata": {},
   "source": [
    "## Personal Server\n",
    "So this is probably the most difficult of all of the options. Not difficult because it's challenging, but difficult because you have to own a server capable of hosting all of the hits to your website, that you also have to protect from hackers and what not. So on and so forth. With a personal server you take on the responsibility of all of the hardware aspects of it as well and that's just the beginning. This is worth for someone with the money and know how but may be a little advanced for now. We\n",
    "\n",
    "That being said you'd likely create a VM on this server publish an IP for that VM and publish the needed ports for the VM to be accessed by the open internet."
   ]
  },
  {
   "cell_type": "markdown",
   "metadata": {},
   "source": [
    "## Heroku\n",
    "Next we're going to move into the clouds. First we have Heroku. You may be wondering why i'm starting here. Heroku is known to be really beginner friendly and have an excellent free tier. Most importantly, you don't have to buy a domain for this option. You have the possibility of getting a link from them but it will be running with heroku somewhere in the name. Small trade off for somewhat free hosting. Now this won't be up all the time but again trade offs.\n",
    "\n",
    "[Heroku](https://www.heroku.com)"
   ]
  },
  {
   "cell_type": "markdown",
   "metadata": {},
   "source": [
    "## AWS\n",
    "On to the big dog of the cloud space! Ok so you have the freelo entrant and you also have the pro tier. So AWS or Amazon Web Services is an option that many take. I personally use AWS for my website and rent out a VM from them every month. They also have other options like Elastic Beanstalk where you don't manage your own VM. The point here is that AWS is tried and true. You can also get a free tier with them but this will give you an IP rather than a URL. You then would take that IP and register it with your domain name provider.\n",
    "\n",
    "[AWS](https://aws.amazon.com)"
   ]
  },
  {
   "cell_type": "markdown",
   "metadata": {},
   "source": [
    "## Azure\n",
    "Ok so there's no issue with being top 2. There is a problem when you're the clear #2 in that top two. So behind AWS you have Azure. I hear that Azure is a phenomenal platform that can give you a lot of the same functionality and benefits that AWS gives you. Realistically the big difference here is that AWS got there first and is know as THE cloud provider now. Honestly, nowadays all of the cloud providers are catching up with one another when it comes to the things that they offerer and are more differentiated by the experience using them. Azure, has a good one! So worth checking out if you wanna try something other than AWS.\n",
    "\n",
    "[Azure](https://azure.microsoft.com/en-us/?cdn=disable)\n"
   ]
  },
  {
   "cell_type": "markdown",
   "metadata": {},
   "source": [
    "## Google Cloud\n",
    "Moving on to another option! For all of the google fans, fear not! Google does literally everything, and a part of that everything is also running a cloud service. So similar to Microsoft with Azure, Google was just a step behind AWS and is seen by a lot as #3 in the cloud battle for position. The interface is very google and similar to their typical ascetic. You shouldn't have many issues with this one either. \n",
    "\n",
    "[Google Cloud](https://cloud.google.com)"
   ]
  },
  {
   "cell_type": "markdown",
   "metadata": {},
   "source": [
    "## IBM Cloud\n",
    "Last but not least the IBM Cloud. Ok so, how I mentioned that Azure and Google Cloud started a little after AWS. Well the IBM cloud is what happens when you start a lot after those 3 and now need an edgy or cool thing to make you stand out from the rest 😂. So the IBM cloud is totally usable by consumers at the public level but typically spends it's focus marketing to larger companies. That being said the IBM Cloud isn't the best on this list in my opinion but is one that's worth looking into from an experience perspective. \n",
    "\n",
    "[IBM Cloud](https://www.ibm.com/cloud)"
   ]
  },
  {
   "cell_type": "markdown",
   "metadata": {},
   "source": [
    "## SSH\n",
    "So we've talked about all of these virtual platforms. How do we connect to any of them? So the main way is through SSH. There are some interfaces that you can get around this but the primary way is through the shell. This is where the IT department comes in for a lot of people but the more things you rely on someone else for the less money you make lol.\n",
    "\n",
    "So there's nothing really that special besides knowing about ssh from there you'll be in the terminal like any other terminal."
   ]
  },
  {
   "cell_type": "markdown",
   "metadata": {},
   "source": [
    "## NGINX and Apache Web Server\n",
    "Wait I thought I already had a web server?\n",
    "\n",
    "The short answer is that you do! But that guy needs help when it comes to communicating with all of the right people not to mention not being taken advantage of and not eating up all your resources when there's only one person on your website. \n",
    "\n",
    "So these 2 (and I lumped them together for our collective sanity) are capable of doing a lot for us. And speaking for me their things that I don't particularly want to pay attention to like load balancing and keeping my site fast and accessible. These two are helping us speak with the outside world as we allow strangers to get to our site. They set up policies that only allow certain people and types of traffic to have access to your servers. While dealing with the communication and protocols that have to do with certificates and security standards."
   ]
  },
  {
   "cell_type": "markdown",
   "metadata": {},
   "source": [
    "## Docker\n",
    "Ok with all of this talk about the different ways that I can deploy my website and all of the different places that I can put it. How do I get it there. Do I need git access for all of these places? Am I supposed to FTP all of my files over? Well you could but I wouldn't recommend it. So this is the current primary option for most people. Docker.\n",
    "\n",
    "Docker is a containerization service that packages up applications in containers with the files that they need to run and the instructions needed to run them. The whole idea behind this is that you can pick up a container from one environment and run it in another. Minimal effort needed. Containerization is an integral of cloud computing because of the flexible nature it provides. This makes it so that you can easily hop from one place to another meaning you only have to commit to what you want to do and the situation that you want to be in. \n",
    "\n",
    "- [Docker](https://www.docker.com)\n",
    "- [Docker Hub](https://hub.docker.com)\n",
    "- [Docker Desktop](https://www.docker.com/products/docker-desktop)"
   ]
  },
  {
   "cell_type": "markdown",
   "metadata": {},
   "source": [
    "## Kubernetes\n",
    "Kubernetes (also sometimes seen as K8s) is a platform for containers that is designed to help you with load management of your containers. Load balancing is an advanced issue that comes along with containers that kubernetes is designed to solve. Kubernetes is currently the standard for container orchestration but in the topic of what we're talking about may be a little overkill.\n",
    "\n",
    "[Kubernetes](https://kubernetes.io)\n",
    "\n"
   ]
  },
  {
   "cell_type": "markdown",
   "metadata": {},
   "source": [
    "## HTTP vs HTTPS\n",
    "This is a very simple section. We have HTTP that we know about and we also have HTTPS. With the era of computing holding more personal data than ever a more secure standard was needed for managing web traffic. That birthed HTTPS!\n",
    "\n",
    "The main thing that we need to know here is that HTTP is on port 80 and that HTTPS is on port 443."
   ]
  },
  {
   "cell_type": "markdown",
   "metadata": {},
   "source": [
    "## Web Certificates\n",
    "Finally we'll talk about web certificates. These are needed so that you can tell the world that you have a reputable website. At least... that was the initial intention. These actually mainly give a way to track down the owner of a site provided something goes wrong. If you don't have a web certificate and try and go without one a web browser will typically say hey this website seems shady and will actually stop you from going to it. This is embedded in your web page and is used by your webserver when people connect to your webpage. "
   ]
  },
  {
   "cell_type": "markdown",
   "metadata": {},
   "source": [
    "## Group Status\n"
   ]
  }
 ],
 "metadata": {
  "kernelspec": {
   "display_name": "Javascript (Node.js)",
   "language": "javascript",
   "name": "javascript"
  },
  "language_info": {
   "name": "javascript"
  },
  "orig_nbformat": 4
 },
 "nbformat": 4,
 "nbformat_minor": 2
}
