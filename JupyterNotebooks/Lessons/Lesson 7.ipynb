{
 "cells": [
  {
   "cell_type": "markdown",
   "source": [
    "# Software Development 2\n",
    "Topics for today will include:\n",
    "- Midterm Recap\n",
    "- Group Status\n",
    "- APIs\n",
    "- REST Routing\n",
    "- Forms\n",
    "- Relational Database vs NoSQL Database\n",
    "- Mongo DB\n",
    "- Mongoose\n",
    "- Sequelize\n",
    "\n",
    "\n",
    "If you'd like to take notes in this Jupyter Notebook, I **HIGHLY RECOMMEND** you make a duplicate, add the word student or something to the name so you don't get a merge conflict!\n",
    "\n",
    "| Group/Company Name   | Slack Channel | Confirmed Groups |\n",
    "| -------------------- | :-----------: | ---------------- |\n",
    "| VIP Development Team | ✅ | Austin Frank, Trent Green, Joe Bartholdi, Connor Johnson, Alex Hanys |\n",
    "| Swole                | ✅ | Noah Fernandez, Sam Viola, Easton Eberwein, Emile Khoury, Rocco Mangone |\n",
    "| Decible              | ✅ | Genevieve Anderson ,Angie Chirichella, Gaby Nina, Kylie Wasserman |\n",
    "| Team -               | ✅ | Daniel Bilotto, Emily Saviano, Kenzie Lippa, Fauziah Ibrahim |\n",
    "| Group5               | ✅ | Michael Laffan, Reed Percelay, Alphonse Vota, Henry Foreman |\n",
    "| Phoenix Foundation   | ✅ | Joshua Seligman, Nick Fiore, Jason Dos Santos, Nicholas Fisher | \n"
   ],
   "metadata": {}
  },
  {
   "cell_type": "markdown",
   "source": [
    "## Midterm Recap"
   ],
   "metadata": {}
  },
  {
   "cell_type": "markdown",
   "source": [
    "## Group Status (Will happen in Slack)"
   ],
   "metadata": {}
  },
  {
   "cell_type": "markdown",
   "source": [
    "## APIs\n",
    "\n",
    "APIs are incredible and are so useful not only for us to gain access to others tools and resources but it also gives us a way to serve those services as well when we need to. We've chatted about them but before we get into it deeper here's APIs as defined by Red Hat:\n",
    "\n",
    "> An application programming interface (API) is a set of tools, definitions, and protocols for integrating application software and services.\n",
    "\n",
    "This makes it so that we can just use a single interface that we don't need to alter every time that the provider of a service changes their service. As long as the API calls don't change the underlying code should be ok. Especially if things are designed well! Now you can have multiple APIs and you often will. You can also have public and private APIs in your project. We're fully looking for simple ways to integrate others into our codebase and APIs can help us do that through data, applications, and different devices, etc. By implementing this we have a way to communicate and request things from other providers. Imagine ordering ice cream (our request), you tell an employee (the API) what you'd like they then take that request and go to the freezers (our service we want to use) and gather what we requested and bring it back to us. When we think APIs we have a lot of these services working together for us and helping us build an awesome project.\n",
    "\n",
    "In the current realm of tech, APIs and libraries are King (or Queen) of the Hill right now. Being able to use different pieces of different architectures is ideal and you want these things to exist in harmony and not clash. This is something to take into consideration since managing multiple interfaces can be a lot to deal with. Enough with the warnings though. Let's start to talk about creating them and building them properly. To do that we should talk about REST. "
   ],
   "metadata": {}
  },
  {
   "cell_type": "markdown",
   "source": [
    "## REST Routing\n",
    "So before we talk about the routing lets do the definition piece. REST stands for Representational State Transfer RESTful routing is all about creating a standardized way for developers around the world to have a system to create url paths. We're going to take a lot of influence from Databases where the action that we can take are following CRUD (Create, Read, Update, Delete). In HTTP we have similar methods, following the CRUD order would be Post, Get, Put/Patch, Delete.\n",
    "\n",
    "What we're focused on is formatting our pages and data so that they work in the REST Scheme. In REST although we're going to pair on the 4 things that we've seen so far we actually have 7 rules in REST. I went out and grabbed a picture that we can talk through to try and understand what is going on in this naming scheme for our URLs.\n",
    "\n",
    "![REST Routing](../../Assets/Images/REST.png)\n",
    "\n",
    "Now this isn't always applicable for example in HTML 5 we don't have the ability to DELETE or PUT meaning that they are guidelines at the end of the day. Not steadfast rules. Up till now we haven't done much besides using get requests. So let's talk about forms."
   ],
   "metadata": {}
  },
  {
   "cell_type": "markdown",
   "source": [
    "## Forms\n",
    "\n",
    "Forms are super useful because it's a way for us to collect data from a page. They also typically go hand in hand with our post requests! So for this we're going to use the form tags `<form></form>`. Inside those form tags we can put `input`s and with those inputs we can handle the data that we're collecting on the server side. This will be stored inside the request body with the `name` that you give it in the input.\n",
    "\n",
    "We'll take a look at this in Quick Demos!"
   ],
   "metadata": {}
  },
  {
   "cell_type": "markdown",
   "source": [
    "## Relational Database vs NoSQL Database\n",
    "Now this class isn't a database course but we do need to talk about them a little bit. That being said since it isn't we don't need to have the best organized database in the world. Because of that we're going to talk about/potentially learn about another type of database. That database is the NoSQL database. NoSQL Databases are typically more synonymous with a rapid development style. The reason for that is that it's typically more free/less strict than a traditional SQL database. This\n",
    "\n",
    "In a REALLY simplistic view you can think of SQL databases as something that you'd use when your data has more structure and you know what you want things to look like. NoSQL is more flexible and something that you can easily adapt with. Now important to realize is that one isn't better than the other. They're both good to know and both great to have in your repertoire.\n",
    "\n",
    "The main reason for me showing this to you is that when developing an application you may not be able to plan everything out in the beginning. For a lazier approach or one that you wanna start working with data sooner. NoSQL may be a good choice. Not to say that you cant use traditional SQL you just may have to do a little more thinking ahead of time."
   ],
   "metadata": {}
  },
  {
   "cell_type": "markdown",
   "source": [
    "## MongoDB\n",
    "In all this talk about NoSQL databases, lets look at one. [MongoDB](https://www.mongodb.com) is a NoSQL database and was my first NoSQL Database. Now I'm not claiming to be an expert but I do think that it's really good and is typically synonymous with the NoSQL name. \n",
    "\n",
    "Mongo stores objects in a JSON like document making understanding our data so much easier if we understand JSON. We also have the ability to expansively query. since we're not tied to traditional table structures we can typically query on what ever we'd like in a more ad hoc nature. Let\n",
    "\n",
    "Let's look at an example of what Mongo has provided to show the differences in the ways we need to think about the whole thing. \n",
    "\n",
    "[Documents vs Tables](https://docs.mongodb.com/guides/server/introduction/)"
   ],
   "metadata": {}
  },
  {
   "cell_type": "markdown",
   "source": [
    "## Mongoose\n",
    "\n",
    "So these last 2 sections are going to be a lot simpler for now but in the future we'll delve into these and possibly some others. For this section we're looking at Mongoose. Mongoose as you can probably can tell by the name is a riff on MongoDB. So this will become more relevant as we start trying to store data. Mongoose is what we'd use to connect to our MongoDB database on the JS side. From that point we'd be able to query and run all of our commands from the JS server side.\n",
    "\n",
    "[Mongoose](https://mongoosejs.com)"
   ],
   "metadata": {}
  },
  {
   "cell_type": "markdown",
   "source": [
    "## Sequelize\n",
    "\n",
    "With all of this talk seemingly turning down traditional SQL we need to talk about traditional SQL. Personally I love PostgreSQL and am fond of MySQL. They've been my DBs of choice for a long time and we need to give them options too! I think for me I am just a lazier person so planning out my total database structure up front isn't my usual first thought. That paired with the fact that MongoDB was for me the newer sexier toy to come around and play with when I was learning about databases, may or may not have swayed me. I think that in a smaller setting Mongo is easier but Traditional SQL has more structure. You can get the same structure with Mongo with some planning but then again we come back to planning things out ahead of time. \n",
    "\n",
    "Similar to Mongoose, Sequelize allows us to connect to out database from the JS side. That. \n",
    "[Sequelize](https://sequelize.org)"
   ],
   "metadata": {}
  }
 ],
 "metadata": {
  "orig_nbformat": 4,
  "language_info": {
   "name": "javascript"
  },
  "kernelspec": {
   "name": "javascript",
   "display_name": "Javascript (Node.js)"
  }
 },
 "nbformat": 4,
 "nbformat_minor": 2
}