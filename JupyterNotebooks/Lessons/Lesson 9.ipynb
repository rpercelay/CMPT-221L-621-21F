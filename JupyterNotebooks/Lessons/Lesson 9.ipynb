{
 "cells": [
  {
   "cell_type": "markdown",
   "metadata": {},
   "source": [
    "# Software Development 2\n",
    "Topics for today will include:\n",
    "- Connecting to Mongo with Mongoose (Demo)\n",
    "- Passport JS (Demo)\n",
    "- Model View Controller Methodology (MVC)\n",
    "- Typescript\n",
    "- Angular, React, and Next\n",
    "- Angular Demo\n",
    "- Group Status\n",
    "\n",
    "\n",
    "If you'd like to take notes in this Jupyter Notebook, I **HIGHLY RECOMMEND** you make a duplicate, add the word student or something to the name so you don't get a merge conflict!\n",
    "\n",
    "| Group/Company Name   | Slack Channel | Confirmed Groups |\n",
    "| -------------------- | :-----------: | ---------------- |\n",
    "| VIP Development Team | ✅ | Austin Frank, Trent Green, Joe Bartholdi, Connor Johnson, Alex Hanys |\n",
    "| Swole                | ✅ | Noah Fernandez, Sam Viola, Easton Eberwein, Emile Khoury, Rocco Mangone |\n",
    "| Decible              | ✅ | Genevieve Anderson, Angie Chirichella, Gaby Nina, Kylie Wasserman |\n",
    "| Team -               | ✅ | Daniel Bilotto, Emily Saviano, Kenzie Lippa, Fauziah Ibrahim |\n",
    "| Stinger               | ✅ | Michael Laffan, Reed Percelay, Alphonse Vota, Henry Foreman |\n",
    "| Phoenix Foundation   | ✅ | Joshua Seligman, Nick Fiore, Jason Dos Santos, Nicholas Fisher | \n"
   ]
  },
  {
   "cell_type": "markdown",
   "metadata": {},
   "source": [
    "## Connecting to Mongo with Mongoose (Demo)\n",
    "- [Mongoose](https://mongoosejs.com)"
   ]
  },
  {
   "cell_type": "markdown",
   "metadata": {},
   "source": [
    "## Passport JS (Demo)\n",
    "- [Passport](http://www.passportjs.org)\n",
    "- [Passport Local](http://www.passportjs.org/packages/passport-local/)\n",
    "- [Passport Local for Mongoose](https://github.com/saintedlama/passport-local-mongoose)\n",
    "- [Express Session](https://www.npmjs.com/package/express-session)"
   ]
  },
  {
   "cell_type": "markdown",
   "metadata": {},
   "source": [
    "## 404 Page\n",
    "[404](https://expressjs.com/en/starter/faq.html)"
   ]
  },
  {
   "cell_type": "markdown",
   "metadata": {},
   "source": [
    "## Model View Controller Methodology (MVC) [MVC Codecademy Article](https://www.codecademy.com/articles/mvc)\n",
    "\n",
    "MVC is a way to think of manipulating your webpage in a more organized manner. A more modularized manner. When we think about our page we have a portion that deals with data. We have a portion that the user can see. Then we also have a portion that we can use to manipulate things. Now the purpose of MVC is to acknowledge that and give them roles. \n",
    "\n",
    "Dealing with the data is the job of the model. This deals with the interaction between the user and the data. How should the data be interpreted? How should it be managed? How should it be manipulated? These are all things that we manage with the models. We want our data controls in the same place. For MVC that's models.\n",
    "\n",
    "Next is the easiest, the views. We know that for a web page there's typically something to look at. That for us is our webpage, but thinking about what it's responsible for is important. We need to provide the user with an interface to see the current state of the data and page. We need to visualize what's going on and well.\n",
    "\n",
    "Finally, we have the controller. This is a piece that makes our lives easier. It's not immediately visible, but this is where we come up with our controls. This paired with our view are the parts that people would touch. If the interface for your website sucks and the interface sucks then no one is going to want to use it. This is responsible for the knobs on your site. These are your buttons, these are your checkboxes, this is what you use to manipulate your webpage. "
   ]
  },
  {
   "cell_type": "markdown",
   "metadata": {},
   "source": [
    "## Typescript [Typescript Website](https://www.typescriptlang.org)\n",
    "\n",
    "Remember Java? Remember having to type things. Having the best time being granular and making sure the world knows that you know all of your data types. Well now we can do that in Javascript 😂\n",
    "\n",
    "Ok jokes aside. That's at a very high level what Typescript does. Personally I think that Typescript brings Javascript up from what is viewed as a beginners programming language to a more serious programming language. We have the ability to use Javascript, but also have the advantages of checking that a lot of the stricter or more established languages have."
   ]
  },
  {
   "cell_type": "markdown",
   "metadata": {},
   "source": [
    "## Angular, React, and Next\n",
    "- [Angular](https://angular.io)\n",
    "- [React](https://reactjs.org)\n",
    "- [Next.js](https://nextjs.org)"
   ]
  },
  {
   "cell_type": "markdown",
   "metadata": {},
   "source": [
    "## Angular Demo"
   ]
  },
  {
   "cell_type": "markdown",
   "metadata": {},
   "source": [
    "## Group Status"
   ]
  }
 ],
 "metadata": {
  "language_info": {
   "name": "python"
  },
  "orig_nbformat": 4
 },
 "nbformat": 4,
 "nbformat_minor": 2
}
